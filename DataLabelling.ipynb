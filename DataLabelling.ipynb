{
  "nbformat": 4,
  "nbformat_minor": 0,
  "metadata": {
    "colab": {
      "name": "DataLabelling.ipynb",
      "provenance": []
    },
    "kernelspec": {
      "name": "python3",
      "display_name": "Python 3"
    }
  },
  "cells": [
    {
      "cell_type": "code",
      "metadata": {
        "id": "Eiryh6rQ8Xay",
        "colab_type": "code",
        "colab": {}
      },
      "source": [
        "import numpy as np\n",
        "import pandas as pd\n",
        " \n",
        "fieldLabel = pd.read_csv(\"/content/drive/My Drive/nursingData/Field/field_label_train.csv\")\n",
        "u04 = pd.read_csv(\"/content/drive/My Drive/nursingData/Field/raw_field_acc_user04.csv\")\n",
        "u07 = pd.read_csv(\"/content/drive/My Drive/nursingData/Field/raw_field_acc_user07.csv\")\n",
        "u08 = pd.read_csv(\"/content/drive/My Drive/nursingData/Field/raw_field_acc_user08.csv\")\n",
        "u18 = pd.read_csv(\"/content/drive/My Drive/nursingData/Field/raw_field_acc_user18.csv\")\n",
        "u31 = pd.read_csv(\"/content/drive/My Drive/nursingData/Field/raw_field_acc_user38.csv\")\n",
        "u51 = pd.read_csv(\"/content/drive/My Drive/nursingData/Field/raw_field_acc_user51.csv\")\n",
        "labData = pd.read_csv(\"/content/drive/My Drive/nursingData/Lab/labels_lab_2users.csv\")\n",
        "labLabel = pd.read_csv(\"/content/drive/My Drive/nursingData/Lab/bigact_raw_lab_acc.csv\")"
      ],
      "execution_count": null,
      "outputs": []
    },
    {
      "cell_type": "code",
      "metadata": {
        "id": "aJkHuvs4g31A",
        "colab_type": "code",
        "colab": {
          "base_uri": "https://localhost:8080/",
          "height": 85
        },
        "outputId": "68b8b69e-36b2-4918-8b63-2497bca46d9b"
      },
      "source": [
        " \n",
        " \n",
        "labeldData = pd.DataFrame(columns = ['x','y','z','label'])\n",
        " \n",
        "u04['datetime'] = pd.to_datetime(u04['datetime'])\n",
        "u07['datetime'] = pd.to_datetime(u07['datetime'])\n",
        "u08['datetime'] = pd.to_datetime(u08['datetime'])\n",
        "u18['datetime'] = pd.to_datetime(u18['datetime'])\n",
        "u31['datetime'] = pd.to_datetime(u31['datetime'])\n",
        "u51['datetime'] = pd.to_datetime(u51['datetime'])\n",
        "fieldLabel['start'] = pd.to_datetime(fieldLabel['start'])\n",
        "fieldLabel['finish'] = pd.to_datetime(fieldLabel['finish'])\n",
        " \n",
        "print('step 2 \\n')\n",
        " \n",
        "u04[\"datetime\"]=u04['datetime'].dt.tz_localize(None)\n",
        "u07[\"datetime\"]=u07['datetime'].dt.tz_localize(None)\n",
        "u08[\"datetime\"]=u08['datetime'].dt.tz_localize(None)\n",
        "u18[\"datetime\"]=u18['datetime'].dt.tz_localize(None)\n",
        "u31[\"datetime\"]=u31['datetime'].dt.tz_localize(None)\n",
        "u51[\"datetime\"]=u51['datetime'].dt.tz_localize(None)\n",
        "fieldLabel['start'] = fieldLabel['start'].dt.tz_localize(None)\n",
        "fieldLabel['finish'] = fieldLabel['finish'].dt.tz_localize(None)\n",
        "print('step 3 \\n')"
      ],
      "execution_count": null,
      "outputs": [
        {
          "output_type": "stream",
          "text": [
            "step 2 \n",
            "\n",
            "step 3 \n",
            "\n"
          ],
          "name": "stdout"
        }
      ]
    },
    {
      "cell_type": "code",
      "metadata": {
        "id": "LaUkYFXDtRz0",
        "colab_type": "code",
        "colab": {
          "base_uri": "https://localhost:8080/",
          "height": 204
        },
        "outputId": "d861ff78-0085-48e6-9f65-e3c6f3bff901"
      },
      "source": [
        "fieldLabel.sort_values(by = 'start',inplace = True)\n",
        "fieldLabel.head()"
      ],
      "execution_count": null,
      "outputs": [
        {
          "output_type": "execute_result",
          "data": {
            "text/html": [
              "<div>\n",
              "<style scoped>\n",
              "    .dataframe tbody tr th:only-of-type {\n",
              "        vertical-align: middle;\n",
              "    }\n",
              "\n",
              "    .dataframe tbody tr th {\n",
              "        vertical-align: top;\n",
              "    }\n",
              "\n",
              "    .dataframe thead th {\n",
              "        text-align: right;\n",
              "    }\n",
              "</style>\n",
              "<table border=\"1\" class=\"dataframe\">\n",
              "  <thead>\n",
              "    <tr style=\"text-align: right;\">\n",
              "      <th></th>\n",
              "      <th>user_id</th>\n",
              "      <th>activity_type_id</th>\n",
              "      <th>start</th>\n",
              "      <th>finish</th>\n",
              "    </tr>\n",
              "  </thead>\n",
              "  <tbody>\n",
              "    <tr>\n",
              "      <th>0</th>\n",
              "      <td>38</td>\n",
              "      <td>1</td>\n",
              "      <td>2018-11-21 14:15:29</td>\n",
              "      <td>2018-11-21 14:15:31</td>\n",
              "    </tr>\n",
              "    <tr>\n",
              "      <th>1</th>\n",
              "      <td>51</td>\n",
              "      <td>1</td>\n",
              "      <td>2018-11-21 14:15:35</td>\n",
              "      <td>2018-11-21 14:15:38</td>\n",
              "    </tr>\n",
              "    <tr>\n",
              "      <th>2</th>\n",
              "      <td>51</td>\n",
              "      <td>3</td>\n",
              "      <td>2018-11-21 14:31:31</td>\n",
              "      <td>2018-11-21 14:31:32</td>\n",
              "    </tr>\n",
              "    <tr>\n",
              "      <th>3</th>\n",
              "      <td>51</td>\n",
              "      <td>5</td>\n",
              "      <td>2018-11-21 14:31:52</td>\n",
              "      <td>2018-11-21 14:31:54</td>\n",
              "    </tr>\n",
              "    <tr>\n",
              "      <th>4</th>\n",
              "      <td>18</td>\n",
              "      <td>5</td>\n",
              "      <td>2018-11-22 19:17:46</td>\n",
              "      <td>2018-11-22 19:19:29</td>\n",
              "    </tr>\n",
              "  </tbody>\n",
              "</table>\n",
              "</div>"
            ],
            "text/plain": [
              "   user_id  activity_type_id               start              finish\n",
              "0       38                 1 2018-11-21 14:15:29 2018-11-21 14:15:31\n",
              "1       51                 1 2018-11-21 14:15:35 2018-11-21 14:15:38\n",
              "2       51                 3 2018-11-21 14:31:31 2018-11-21 14:31:32\n",
              "3       51                 5 2018-11-21 14:31:52 2018-11-21 14:31:54\n",
              "4       18                 5 2018-11-22 19:17:46 2018-11-22 19:19:29"
            ]
          },
          "metadata": {
            "tags": []
          },
          "execution_count": 3
        }
      ]
    },
    {
      "cell_type": "code",
      "metadata": {
        "id": "t_VKNIXXshVJ",
        "colab_type": "code",
        "colab": {}
      },
      "source": [
        " \n",
        "def labelling(user,labels):\n",
        "  count = 0\n",
        "  user.sort_values(by='datetime',inplace=True)\n",
        "  user.reset_index(drop =True,inplace =True)\n",
        "  labels.sort_values(by = 'start')\n",
        "  labels.reset_index(drop = True,inplace = True)\n",
        "  i = 0\n",
        "  j = 0\n",
        "  X = []\n",
        "  Y = []\n",
        "  Z = []\n",
        "  T = []\n",
        "  for i in range(len(labels)):\n",
        "    matched = user[(labels.loc[i,'start']<=user.datetime) &(labels.loc[i,'finish']>=user.datetime)]\n",
        "    if matched.shape[0] == 0:\n",
        "      labels.drop(i,inplace = True)\n",
        "      continue\n",
        "    X.append(matched['x'].to_numpy())\n",
        "    Y.append(matched['y'].to_numpy())\n",
        "    Z.append(matched['z'].to_numpy())\n",
        "    T.append(matched['datetime'].to_numpy())\n",
        "  labels['x'] = X\n",
        "  labels['y'] = Y\n",
        "  labels['z'] = Z\n",
        "  labels['t'] = T\n",
        "  labels.reset_index(drop=True,inplace = True)\n",
        "  return labels\n",
        " \n",
        " \n"
      ],
      "execution_count": null,
      "outputs": []
    },
    {
      "cell_type": "code",
      "metadata": {
        "id": "Zs9voLZR1dl6",
        "colab_type": "code",
        "colab": {}
      },
      "source": [
        "label4 = fieldLabel[fieldLabel['user_id']==4]\n",
        "label7 = fieldLabel[fieldLabel['user_id']==7]\n",
        "label8 = fieldLabel[fieldLabel['user_id']==8]\n",
        "label18 = fieldLabel[fieldLabel['user_id']==18]\n",
        "label38 = fieldLabel[fieldLabel['user_id']==38]\n",
        "label51 = fieldLabel[fieldLabel['user_id']==51]"
      ],
      "execution_count": null,
      "outputs": []
    },
    {
      "cell_type": "code",
      "metadata": {
        "id": "A0sBG2-DfVWT",
        "colab_type": "code",
        "colab": {
          "base_uri": "https://localhost:8080/",
          "height": 578
        },
        "outputId": "e8e070b6-8c1e-4fb0-87bd-a3fd5406530a"
      },
      "source": [
        "label4 = labelling(u04,label4)\n",
        "print(label4.head())"
      ],
      "execution_count": null,
      "outputs": [
        {
          "output_type": "stream",
          "text": [
            "/usr/local/lib/python3.6/dist-packages/pandas/core/frame.py:3997: SettingWithCopyWarning: \n",
            "A value is trying to be set on a copy of a slice from a DataFrame\n",
            "\n",
            "See the caveats in the documentation: https://pandas.pydata.org/pandas-docs/stable/user_guide/indexing.html#returning-a-view-versus-a-copy\n",
            "  errors=errors,\n"
          ],
          "name": "stderr"
        },
        {
          "output_type": "stream",
          "text": [
            "   user_id  ...                                                  t\n",
            "0        4  ...  [2018-12-02T10:27:37.041000000, 2018-12-02T10:...\n",
            "1        4  ...  [2018-12-02T10:32:58.181000000, 2018-12-02T10:...\n",
            "2        4  ...  [2018-12-02T10:33:45.575000000, 2018-12-02T10:...\n",
            "3        4  ...  [2018-12-02T10:34:41.983000000, 2018-12-02T10:...\n",
            "4        4  ...  [2018-12-02T11:49:03.051000000, 2018-12-02T11:...\n",
            "\n",
            "[5 rows x 8 columns]\n"
          ],
          "name": "stdout"
        },
        {
          "output_type": "stream",
          "text": [
            "/usr/local/lib/python3.6/dist-packages/ipykernel_launcher.py:23: SettingWithCopyWarning: \n",
            "A value is trying to be set on a copy of a slice from a DataFrame.\n",
            "Try using .loc[row_indexer,col_indexer] = value instead\n",
            "\n",
            "See the caveats in the documentation: https://pandas.pydata.org/pandas-docs/stable/user_guide/indexing.html#returning-a-view-versus-a-copy\n",
            "/usr/local/lib/python3.6/dist-packages/ipykernel_launcher.py:24: SettingWithCopyWarning: \n",
            "A value is trying to be set on a copy of a slice from a DataFrame.\n",
            "Try using .loc[row_indexer,col_indexer] = value instead\n",
            "\n",
            "See the caveats in the documentation: https://pandas.pydata.org/pandas-docs/stable/user_guide/indexing.html#returning-a-view-versus-a-copy\n",
            "/usr/local/lib/python3.6/dist-packages/ipykernel_launcher.py:25: SettingWithCopyWarning: \n",
            "A value is trying to be set on a copy of a slice from a DataFrame.\n",
            "Try using .loc[row_indexer,col_indexer] = value instead\n",
            "\n",
            "See the caveats in the documentation: https://pandas.pydata.org/pandas-docs/stable/user_guide/indexing.html#returning-a-view-versus-a-copy\n",
            "/usr/local/lib/python3.6/dist-packages/ipykernel_launcher.py:26: SettingWithCopyWarning: \n",
            "A value is trying to be set on a copy of a slice from a DataFrame.\n",
            "Try using .loc[row_indexer,col_indexer] = value instead\n",
            "\n",
            "See the caveats in the documentation: https://pandas.pydata.org/pandas-docs/stable/user_guide/indexing.html#returning-a-view-versus-a-copy\n"
          ],
          "name": "stderr"
        }
      ]
    },
    {
      "cell_type": "code",
      "metadata": {
        "id": "Diq2ewQsrZ1S",
        "colab_type": "code",
        "colab": {
          "base_uri": "https://localhost:8080/",
          "height": 374
        },
        "outputId": "da44b291-d07a-4819-e7c1-ceaf1fe7a6be"
      },
      "source": [
        "label4['x'].head(20)"
      ],
      "execution_count": null,
      "outputs": [
        {
          "output_type": "execute_result",
          "data": {
            "text/plain": [
              "0     [-2.221, 1.455, 1.455, 0.574, 2.26, 2.26, -2.3...\n",
              "1     [1.187, 1.187, 1.838, 1.838, 3.217, 1.992, 1.9...\n",
              "2     [-1.6469999999999998, -1.6469999999999998, 1.0...\n",
              "3     [3.486, 3.486, 5.631, 3.447, 1.225, 2.068, 2.0...\n",
              "4     [-5.746, -5.401, -5.401, -5.669, -5.8610000000...\n",
              "5     [-5.324, -5.324, -5.2860000000000005, -4.941, ...\n",
              "6     [-6.282, -6.282, -6.627000000000001, -6.627000...\n",
              "7     [-0.45899999999999996, 0.306, 0.306, -0.957000...\n",
              "8     [-0.076, -0.076, 0.498, 0.498, 0.804, -0.84200...\n",
              "9     [0.42100000000000004, 0.42100000000000004, 0.4...\n",
              "10    [-0.153, -0.153, -2.068, -4.98, -4.98, -4.98, ...\n",
              "11    [-1.225, -2.221, -2.221, -2.49, -2.49, -2.1830...\n",
              "12    [-1.494, -1.494, -1.494, -1.494, -0.996, -0.99...\n",
              "13    [2.949, 2.949, 2.949, 3.447, 3.447, 3.447, 3.4...\n",
              "14    [0.9570000000000001, 0.9570000000000001, 0.919...\n",
              "15    [7.278, 7.278, 7.546, 5.899, 5.899, 5.439, 3.8...\n",
              "16    [1.264, 1.264, 1.264, 1.264, 1.723, 1.723, 1.7...\n",
              "17    [9.308, 9.308, 9.308, 9.308, 9.308, 9.308, 9.1...\n",
              "18    [9.27, 9.27, 9.27, 9.27, 9.27, 9.27, 9.308, 9....\n",
              "19    [9.347000000000001, 9.232000000000001, 9.23200...\n",
              "Name: x, dtype: object"
            ]
          },
          "metadata": {
            "tags": []
          },
          "execution_count": 38
        }
      ]
    },
    {
      "cell_type": "code",
      "metadata": {
        "id": "v3gH26NIxLCp",
        "colab_type": "code",
        "colab": {}
      },
      "source": [
        "users = [u07,u08,u18,u31,u51]\n",
        "labelss = [label7,label8,label18,label38,label51]"
      ],
      "execution_count": null,
      "outputs": []
    },
    {
      "cell_type": "code",
      "metadata": {
        "id": "eltSE0iJ4DuY",
        "colab_type": "code",
        "colab": {
          "base_uri": "https://localhost:8080/",
          "height": 1000
        },
        "outputId": "af0cb9d7-4796-43ea-cd50-8ecf74daacf4"
      },
      "source": [
        "for q in range(len(users)):\n",
        "  labelling(users[q],labelss[q])\n",
        "  print(labelss[q].head())"
      ],
      "execution_count": null,
      "outputs": [
        {
          "output_type": "stream",
          "text": [
            "/usr/local/lib/python3.6/dist-packages/pandas/core/frame.py:3997: SettingWithCopyWarning: \n",
            "A value is trying to be set on a copy of a slice from a DataFrame\n",
            "\n",
            "See the caveats in the documentation: https://pandas.pydata.org/pandas-docs/stable/user_guide/indexing.html#returning-a-view-versus-a-copy\n",
            "  errors=errors,\n",
            "/usr/local/lib/python3.6/dist-packages/ipykernel_launcher.py:23: SettingWithCopyWarning: \n",
            "A value is trying to be set on a copy of a slice from a DataFrame.\n",
            "Try using .loc[row_indexer,col_indexer] = value instead\n",
            "\n",
            "See the caveats in the documentation: https://pandas.pydata.org/pandas-docs/stable/user_guide/indexing.html#returning-a-view-versus-a-copy\n",
            "/usr/local/lib/python3.6/dist-packages/ipykernel_launcher.py:24: SettingWithCopyWarning: \n",
            "A value is trying to be set on a copy of a slice from a DataFrame.\n",
            "Try using .loc[row_indexer,col_indexer] = value instead\n",
            "\n",
            "See the caveats in the documentation: https://pandas.pydata.org/pandas-docs/stable/user_guide/indexing.html#returning-a-view-versus-a-copy\n",
            "/usr/local/lib/python3.6/dist-packages/ipykernel_launcher.py:25: SettingWithCopyWarning: \n",
            "A value is trying to be set on a copy of a slice from a DataFrame.\n",
            "Try using .loc[row_indexer,col_indexer] = value instead\n",
            "\n",
            "See the caveats in the documentation: https://pandas.pydata.org/pandas-docs/stable/user_guide/indexing.html#returning-a-view-versus-a-copy\n",
            "/usr/local/lib/python3.6/dist-packages/ipykernel_launcher.py:26: SettingWithCopyWarning: \n",
            "A value is trying to be set on a copy of a slice from a DataFrame.\n",
            "Try using .loc[row_indexer,col_indexer] = value instead\n",
            "\n",
            "See the caveats in the documentation: https://pandas.pydata.org/pandas-docs/stable/user_guide/indexing.html#returning-a-view-versus-a-copy\n"
          ],
          "name": "stderr"
        },
        {
          "output_type": "stream",
          "text": [
            "   user_id  ...                                                  t\n",
            "0        7  ...  [2018-12-02T12:46:41.078000000, 2018-12-02T12:...\n",
            "1        7  ...  [2018-12-02T17:00:48.062000000, 2018-12-02T17:...\n",
            "2        7  ...  [2018-12-02T18:38:23.150000000, 2018-12-02T18:...\n",
            "3        7  ...  [2018-12-02T18:52:02.719000000, 2018-12-02T18:...\n",
            "4        7  ...  [2018-12-02T18:54:21.748000000, 2018-12-02T18:...\n",
            "\n",
            "[5 rows x 8 columns]\n"
          ],
          "name": "stdout"
        },
        {
          "output_type": "stream",
          "text": [
            "/usr/local/lib/python3.6/dist-packages/pandas/core/frame.py:3997: SettingWithCopyWarning: \n",
            "A value is trying to be set on a copy of a slice from a DataFrame\n",
            "\n",
            "See the caveats in the documentation: https://pandas.pydata.org/pandas-docs/stable/user_guide/indexing.html#returning-a-view-versus-a-copy\n",
            "  errors=errors,\n",
            "/usr/local/lib/python3.6/dist-packages/ipykernel_launcher.py:23: SettingWithCopyWarning: \n",
            "A value is trying to be set on a copy of a slice from a DataFrame.\n",
            "Try using .loc[row_indexer,col_indexer] = value instead\n",
            "\n",
            "See the caveats in the documentation: https://pandas.pydata.org/pandas-docs/stable/user_guide/indexing.html#returning-a-view-versus-a-copy\n",
            "/usr/local/lib/python3.6/dist-packages/ipykernel_launcher.py:24: SettingWithCopyWarning: \n",
            "A value is trying to be set on a copy of a slice from a DataFrame.\n",
            "Try using .loc[row_indexer,col_indexer] = value instead\n",
            "\n",
            "See the caveats in the documentation: https://pandas.pydata.org/pandas-docs/stable/user_guide/indexing.html#returning-a-view-versus-a-copy\n",
            "/usr/local/lib/python3.6/dist-packages/ipykernel_launcher.py:25: SettingWithCopyWarning: \n",
            "A value is trying to be set on a copy of a slice from a DataFrame.\n",
            "Try using .loc[row_indexer,col_indexer] = value instead\n",
            "\n",
            "See the caveats in the documentation: https://pandas.pydata.org/pandas-docs/stable/user_guide/indexing.html#returning-a-view-versus-a-copy\n",
            "/usr/local/lib/python3.6/dist-packages/ipykernel_launcher.py:26: SettingWithCopyWarning: \n",
            "A value is trying to be set on a copy of a slice from a DataFrame.\n",
            "Try using .loc[row_indexer,col_indexer] = value instead\n",
            "\n",
            "See the caveats in the documentation: https://pandas.pydata.org/pandas-docs/stable/user_guide/indexing.html#returning-a-view-versus-a-copy\n"
          ],
          "name": "stderr"
        },
        {
          "output_type": "stream",
          "text": [
            "   user_id  ...                                                  t\n",
            "0        8  ...  [2018-12-03T00:08:58.981000000, 2018-12-03T00:...\n",
            "1        8  ...  [2018-12-03T00:17:06.191000000, 2018-12-03T00:...\n",
            "2        8  ...  [2018-12-03T01:00:43.161000000, 2018-12-03T01:...\n",
            "3        8  ...  [2018-12-03T01:02:32.361000000, 2018-12-03T01:...\n",
            "4        8  ...  [2018-12-03T01:10:15.241000000, 2018-12-03T01:...\n",
            "\n",
            "[5 rows x 8 columns]\n"
          ],
          "name": "stdout"
        },
        {
          "output_type": "stream",
          "text": [
            "/usr/local/lib/python3.6/dist-packages/pandas/core/frame.py:3997: SettingWithCopyWarning: \n",
            "A value is trying to be set on a copy of a slice from a DataFrame\n",
            "\n",
            "See the caveats in the documentation: https://pandas.pydata.org/pandas-docs/stable/user_guide/indexing.html#returning-a-view-versus-a-copy\n",
            "  errors=errors,\n",
            "/usr/local/lib/python3.6/dist-packages/ipykernel_launcher.py:23: SettingWithCopyWarning: \n",
            "A value is trying to be set on a copy of a slice from a DataFrame.\n",
            "Try using .loc[row_indexer,col_indexer] = value instead\n",
            "\n",
            "See the caveats in the documentation: https://pandas.pydata.org/pandas-docs/stable/user_guide/indexing.html#returning-a-view-versus-a-copy\n",
            "/usr/local/lib/python3.6/dist-packages/ipykernel_launcher.py:24: SettingWithCopyWarning: \n",
            "A value is trying to be set on a copy of a slice from a DataFrame.\n",
            "Try using .loc[row_indexer,col_indexer] = value instead\n",
            "\n",
            "See the caveats in the documentation: https://pandas.pydata.org/pandas-docs/stable/user_guide/indexing.html#returning-a-view-versus-a-copy\n",
            "/usr/local/lib/python3.6/dist-packages/ipykernel_launcher.py:25: SettingWithCopyWarning: \n",
            "A value is trying to be set on a copy of a slice from a DataFrame.\n",
            "Try using .loc[row_indexer,col_indexer] = value instead\n",
            "\n",
            "See the caveats in the documentation: https://pandas.pydata.org/pandas-docs/stable/user_guide/indexing.html#returning-a-view-versus-a-copy\n",
            "/usr/local/lib/python3.6/dist-packages/ipykernel_launcher.py:26: SettingWithCopyWarning: \n",
            "A value is trying to be set on a copy of a slice from a DataFrame.\n",
            "Try using .loc[row_indexer,col_indexer] = value instead\n",
            "\n",
            "See the caveats in the documentation: https://pandas.pydata.org/pandas-docs/stable/user_guide/indexing.html#returning-a-view-versus-a-copy\n"
          ],
          "name": "stderr"
        },
        {
          "output_type": "stream",
          "text": [
            "   user_id  ...                                                  t\n",
            "0       18  ...  [2018-12-01T22:50:30.481000000, 2018-12-01T22:...\n",
            "1       18  ...  [2018-12-01T23:29:55.742000000, 2018-12-01T23:...\n",
            "2       18  ...  [2018-12-01T23:46:33.656000000, 2018-12-01T23:...\n",
            "3       18  ...  [2018-12-01T23:53:28.057000000, 2018-12-01T23:...\n",
            "4       18  ...  [2018-12-01T23:58:27.272000000, 2018-12-01T23:...\n",
            "\n",
            "[5 rows x 8 columns]\n"
          ],
          "name": "stdout"
        },
        {
          "output_type": "stream",
          "text": [
            "/usr/local/lib/python3.6/dist-packages/pandas/core/frame.py:3997: SettingWithCopyWarning: \n",
            "A value is trying to be set on a copy of a slice from a DataFrame\n",
            "\n",
            "See the caveats in the documentation: https://pandas.pydata.org/pandas-docs/stable/user_guide/indexing.html#returning-a-view-versus-a-copy\n",
            "  errors=errors,\n",
            "/usr/local/lib/python3.6/dist-packages/ipykernel_launcher.py:23: SettingWithCopyWarning: \n",
            "A value is trying to be set on a copy of a slice from a DataFrame.\n",
            "Try using .loc[row_indexer,col_indexer] = value instead\n",
            "\n",
            "See the caveats in the documentation: https://pandas.pydata.org/pandas-docs/stable/user_guide/indexing.html#returning-a-view-versus-a-copy\n",
            "/usr/local/lib/python3.6/dist-packages/ipykernel_launcher.py:24: SettingWithCopyWarning: \n",
            "A value is trying to be set on a copy of a slice from a DataFrame.\n",
            "Try using .loc[row_indexer,col_indexer] = value instead\n",
            "\n",
            "See the caveats in the documentation: https://pandas.pydata.org/pandas-docs/stable/user_guide/indexing.html#returning-a-view-versus-a-copy\n",
            "/usr/local/lib/python3.6/dist-packages/ipykernel_launcher.py:25: SettingWithCopyWarning: \n",
            "A value is trying to be set on a copy of a slice from a DataFrame.\n",
            "Try using .loc[row_indexer,col_indexer] = value instead\n",
            "\n",
            "See the caveats in the documentation: https://pandas.pydata.org/pandas-docs/stable/user_guide/indexing.html#returning-a-view-versus-a-copy\n",
            "/usr/local/lib/python3.6/dist-packages/ipykernel_launcher.py:26: SettingWithCopyWarning: \n",
            "A value is trying to be set on a copy of a slice from a DataFrame.\n",
            "Try using .loc[row_indexer,col_indexer] = value instead\n",
            "\n",
            "See the caveats in the documentation: https://pandas.pydata.org/pandas-docs/stable/user_guide/indexing.html#returning-a-view-versus-a-copy\n"
          ],
          "name": "stderr"
        },
        {
          "output_type": "stream",
          "text": [
            "   user_id  ...                                                  t\n",
            "0       38  ...  [2018-12-16T18:13:04.337000000, 2018-12-16T18:...\n",
            "1       38  ...  [2018-12-18T10:16:34.045000000, 2018-12-18T10:...\n",
            "\n",
            "[2 rows x 8 columns]\n"
          ],
          "name": "stdout"
        },
        {
          "output_type": "stream",
          "text": [
            "/usr/local/lib/python3.6/dist-packages/pandas/core/frame.py:3997: SettingWithCopyWarning: \n",
            "A value is trying to be set on a copy of a slice from a DataFrame\n",
            "\n",
            "See the caveats in the documentation: https://pandas.pydata.org/pandas-docs/stable/user_guide/indexing.html#returning-a-view-versus-a-copy\n",
            "  errors=errors,\n"
          ],
          "name": "stderr"
        },
        {
          "output_type": "stream",
          "text": [
            "   user_id  ...                                                  t\n",
            "0       51  ...  [2018-12-02T21:50:39.500000000, 2018-12-02T21:...\n",
            "1       51  ...  [2018-12-02T22:01:17.583000000, 2018-12-02T22:...\n",
            "2       51  ...  [2018-12-02T22:06:23.055000000, 2018-12-02T22:...\n",
            "3       51  ...  [2018-12-02T22:10:51.113000000, 2018-12-02T22:...\n",
            "4       51  ...  [2018-12-02T22:20:22.863000000, 2018-12-02T22:...\n",
            "\n",
            "[5 rows x 8 columns]\n"
          ],
          "name": "stdout"
        },
        {
          "output_type": "stream",
          "text": [
            "/usr/local/lib/python3.6/dist-packages/ipykernel_launcher.py:23: SettingWithCopyWarning: \n",
            "A value is trying to be set on a copy of a slice from a DataFrame.\n",
            "Try using .loc[row_indexer,col_indexer] = value instead\n",
            "\n",
            "See the caveats in the documentation: https://pandas.pydata.org/pandas-docs/stable/user_guide/indexing.html#returning-a-view-versus-a-copy\n",
            "/usr/local/lib/python3.6/dist-packages/ipykernel_launcher.py:24: SettingWithCopyWarning: \n",
            "A value is trying to be set on a copy of a slice from a DataFrame.\n",
            "Try using .loc[row_indexer,col_indexer] = value instead\n",
            "\n",
            "See the caveats in the documentation: https://pandas.pydata.org/pandas-docs/stable/user_guide/indexing.html#returning-a-view-versus-a-copy\n",
            "/usr/local/lib/python3.6/dist-packages/ipykernel_launcher.py:25: SettingWithCopyWarning: \n",
            "A value is trying to be set on a copy of a slice from a DataFrame.\n",
            "Try using .loc[row_indexer,col_indexer] = value instead\n",
            "\n",
            "See the caveats in the documentation: https://pandas.pydata.org/pandas-docs/stable/user_guide/indexing.html#returning-a-view-versus-a-copy\n",
            "/usr/local/lib/python3.6/dist-packages/ipykernel_launcher.py:26: SettingWithCopyWarning: \n",
            "A value is trying to be set on a copy of a slice from a DataFrame.\n",
            "Try using .loc[row_indexer,col_indexer] = value instead\n",
            "\n",
            "See the caveats in the documentation: https://pandas.pydata.org/pandas-docs/stable/user_guide/indexing.html#returning-a-view-versus-a-copy\n"
          ],
          "name": "stderr"
        }
      ]
    },
    {
      "cell_type": "code",
      "metadata": {
        "id": "upOdycrm2YES",
        "colab_type": "code",
        "colab": {
          "base_uri": "https://localhost:8080/",
          "height": 796
        },
        "outputId": "51dde9ad-70ec-4e1b-bf43-20e510e3fe81"
      },
      "source": [
        "FieldLables = pd.concat([label4,label7,label8,label18,label38,label51],ignore_index = True)\n",
        "FieldLables"
      ],
      "execution_count": null,
      "outputs": [
        {
          "output_type": "execute_result",
          "data": {
            "text/html": [
              "<div>\n",
              "<style scoped>\n",
              "    .dataframe tbody tr th:only-of-type {\n",
              "        vertical-align: middle;\n",
              "    }\n",
              "\n",
              "    .dataframe tbody tr th {\n",
              "        vertical-align: top;\n",
              "    }\n",
              "\n",
              "    .dataframe thead th {\n",
              "        text-align: right;\n",
              "    }\n",
              "</style>\n",
              "<table border=\"1\" class=\"dataframe\">\n",
              "  <thead>\n",
              "    <tr style=\"text-align: right;\">\n",
              "      <th></th>\n",
              "      <th>user_id</th>\n",
              "      <th>activity_type_id</th>\n",
              "      <th>start</th>\n",
              "      <th>finish</th>\n",
              "      <th>x</th>\n",
              "      <th>y</th>\n",
              "      <th>z</th>\n",
              "      <th>t</th>\n",
              "    </tr>\n",
              "  </thead>\n",
              "  <tbody>\n",
              "    <tr>\n",
              "      <th>0</th>\n",
              "      <td>4</td>\n",
              "      <td>5</td>\n",
              "      <td>2018-12-02 10:27:37</td>\n",
              "      <td>2018-12-02 10:28:22</td>\n",
              "      <td>[-2.221, 1.455, 1.455, 0.574, 2.26, 2.26, -2.3...</td>\n",
              "      <td>[7.776, 7.125, 7.125, 6.205, 5.171, 5.171, 7.5...</td>\n",
              "      <td>[6.3660000000000005, 5.89, 5.89, 6.653, 7.721,...</td>\n",
              "      <td>[2018-12-02T10:27:37.041000000, 2018-12-02T10:...</td>\n",
              "    </tr>\n",
              "    <tr>\n",
              "      <th>1</th>\n",
              "      <td>4</td>\n",
              "      <td>5</td>\n",
              "      <td>2018-12-02 10:32:58</td>\n",
              "      <td>2018-12-02 10:33:29</td>\n",
              "      <td>[1.187, 1.187, 1.838, 1.838, 3.217, 1.992, 1.9...</td>\n",
              "      <td>[5.478, 5.478, 5.2860000000000005, 5.286000000...</td>\n",
              "      <td>[8.329, 8.329, 8.087, 8.087, 7.975, 6.025, 6.0...</td>\n",
              "      <td>[2018-12-02T10:32:58.181000000, 2018-12-02T10:...</td>\n",
              "    </tr>\n",
              "    <tr>\n",
              "      <th>2</th>\n",
              "      <td>4</td>\n",
              "      <td>4</td>\n",
              "      <td>2018-12-02 10:33:31</td>\n",
              "      <td>2018-12-02 10:34:25</td>\n",
              "      <td>[-1.6469999999999998, -1.6469999999999998, 1.0...</td>\n",
              "      <td>[7.928999999999999, 7.928999999999999, 9.577, ...</td>\n",
              "      <td>[2.707, 2.707, 1.851, 0.5329999999999999, -0.1...</td>\n",
              "      <td>[2018-12-02T10:33:45.575000000, 2018-12-02T10:...</td>\n",
              "    </tr>\n",
              "    <tr>\n",
              "      <th>3</th>\n",
              "      <td>4</td>\n",
              "      <td>5</td>\n",
              "      <td>2018-12-02 10:34:29</td>\n",
              "      <td>2018-12-02 10:35:09</td>\n",
              "      <td>[3.486, 3.486, 5.631, 3.447, 1.225, 2.068, 2.0...</td>\n",
              "      <td>[10.036, 10.036, 9.04, 7.24, 7.891, 5.631, 5.6...</td>\n",
              "      <td>[0.484, 0.484, 0.064, 0.049, 2.076, 6.852, 6.8...</td>\n",
              "      <td>[2018-12-02T10:34:41.983000000, 2018-12-02T10:...</td>\n",
              "    </tr>\n",
              "    <tr>\n",
              "      <th>4</th>\n",
              "      <td>4</td>\n",
              "      <td>4</td>\n",
              "      <td>2018-12-02 11:49:03</td>\n",
              "      <td>2018-12-02 11:50:02</td>\n",
              "      <td>[-5.746, -5.401, -5.401, -5.669, -5.8610000000...</td>\n",
              "      <td>[7.853, 7.622999999999999, 7.622999999999999, ...</td>\n",
              "      <td>[0.127, 0.124, 0.124, 0.107, 0.115, 0.16, 0.16...</td>\n",
              "      <td>[2018-12-02T11:49:03.051000000, 2018-12-02T11:...</td>\n",
              "    </tr>\n",
              "    <tr>\n",
              "      <th>...</th>\n",
              "      <td>...</td>\n",
              "      <td>...</td>\n",
              "      <td>...</td>\n",
              "      <td>...</td>\n",
              "      <td>...</td>\n",
              "      <td>...</td>\n",
              "      <td>...</td>\n",
              "      <td>...</td>\n",
              "    </tr>\n",
              "    <tr>\n",
              "      <th>945</th>\n",
              "      <td>51</td>\n",
              "      <td>12</td>\n",
              "      <td>2018-12-28 18:50:15</td>\n",
              "      <td>2018-12-28 18:50:23</td>\n",
              "      <td>[-1.072, -1.072, 0.7659999999999999, 0.7659999...</td>\n",
              "      <td>[9.577, 9.577, 9.807, 9.807, 11.72200000000000...</td>\n",
              "      <td>[0.03, 0.03, 0.07, 0.07, 0.465, 0.687, 0.687, ...</td>\n",
              "      <td>[2018-12-28T18:50:16.464000000, 2018-12-28T18:...</td>\n",
              "    </tr>\n",
              "    <tr>\n",
              "      <th>946</th>\n",
              "      <td>51</td>\n",
              "      <td>12</td>\n",
              "      <td>2018-12-29 18:02:04</td>\n",
              "      <td>2018-12-29 18:02:14</td>\n",
              "      <td>[2.068, 2.068, 2.068, 2.068, 0.344, 0.344, 6.2...</td>\n",
              "      <td>[10.725999999999999, 10.725999999999999, 10.72...</td>\n",
              "      <td>[0.387, 0.387, 0.387, 0.387, 0.036000000000000...</td>\n",
              "      <td>[2018-12-29T18:02:06.694000000, 2018-12-29T18:...</td>\n",
              "    </tr>\n",
              "    <tr>\n",
              "      <th>947</th>\n",
              "      <td>51</td>\n",
              "      <td>12</td>\n",
              "      <td>2018-12-29 18:11:36</td>\n",
              "      <td>2018-12-29 18:11:42</td>\n",
              "      <td>[6.359, 6.359, 6.359, 6.359, 6.359, 6.359, 6.3...</td>\n",
              "      <td>[7.622999999999999, 7.622999999999999, 7.62299...</td>\n",
              "      <td>[0.098, 0.098, 0.098, 0.098, 0.098, 0.098, 0.0...</td>\n",
              "      <td>[2018-12-29T18:11:37.481000000, 2018-12-29T18:...</td>\n",
              "    </tr>\n",
              "    <tr>\n",
              "      <th>948</th>\n",
              "      <td>51</td>\n",
              "      <td>12</td>\n",
              "      <td>2018-12-29 18:19:57</td>\n",
              "      <td>2018-12-29 18:20:07</td>\n",
              "      <td>[0.114, 0.114, 0.114, 0.114, 0.076, 0.076, -0....</td>\n",
              "      <td>[9.347000000000001, 9.347000000000001, 9.34700...</td>\n",
              "      <td>[-0.32299999999999995, -0.32299999999999995, -...</td>\n",
              "      <td>[2018-12-29T18:19:57.106000000, 2018-12-29T18:...</td>\n",
              "    </tr>\n",
              "    <tr>\n",
              "      <th>949</th>\n",
              "      <td>51</td>\n",
              "      <td>12</td>\n",
              "      <td>2018-12-29 18:35:06</td>\n",
              "      <td>2018-12-29 18:35:15</td>\n",
              "      <td>[-0.076, -0.076, -0.038, -0.804, -0.804, 3.907...</td>\n",
              "      <td>[9.883, 9.883, 9.807, 9.807, 9.807, 8.581, 5.3...</td>\n",
              "      <td>[0.069, 0.069, 0.091, 0.165, 0.165, 0.015, -0....</td>\n",
              "      <td>[2018-12-29T18:35:07.086000000, 2018-12-29T18:...</td>\n",
              "    </tr>\n",
              "  </tbody>\n",
              "</table>\n",
              "<p>950 rows × 8 columns</p>\n",
              "</div>"
            ],
            "text/plain": [
              "     user_id  ...                                                  t\n",
              "0          4  ...  [2018-12-02T10:27:37.041000000, 2018-12-02T10:...\n",
              "1          4  ...  [2018-12-02T10:32:58.181000000, 2018-12-02T10:...\n",
              "2          4  ...  [2018-12-02T10:33:45.575000000, 2018-12-02T10:...\n",
              "3          4  ...  [2018-12-02T10:34:41.983000000, 2018-12-02T10:...\n",
              "4          4  ...  [2018-12-02T11:49:03.051000000, 2018-12-02T11:...\n",
              "..       ...  ...                                                ...\n",
              "945       51  ...  [2018-12-28T18:50:16.464000000, 2018-12-28T18:...\n",
              "946       51  ...  [2018-12-29T18:02:06.694000000, 2018-12-29T18:...\n",
              "947       51  ...  [2018-12-29T18:11:37.481000000, 2018-12-29T18:...\n",
              "948       51  ...  [2018-12-29T18:19:57.106000000, 2018-12-29T18:...\n",
              "949       51  ...  [2018-12-29T18:35:07.086000000, 2018-12-29T18:...\n",
              "\n",
              "[950 rows x 8 columns]"
            ]
          },
          "metadata": {
            "tags": []
          },
          "execution_count": 41
        }
      ]
    },
    {
      "cell_type": "code",
      "metadata": {
        "id": "rBtDFkix3IIC",
        "colab_type": "code",
        "colab": {}
      },
      "source": [
        "FieldLables.to_pickle('/content/drive/My Drive/nursingData/Field/LabeledData.pkl')"
      ],
      "execution_count": null,
      "outputs": []
    }
  ]
}