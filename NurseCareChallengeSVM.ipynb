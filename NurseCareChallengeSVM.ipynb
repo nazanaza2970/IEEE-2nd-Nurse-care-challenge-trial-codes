{
  "nbformat": 4,
  "nbformat_minor": 0,
  "metadata": {
    "colab": {
      "name": "NurseCareChallengeSVM.ipynb",
      "provenance": []
    },
    "kernelspec": {
      "name": "python3",
      "display_name": "Python 3"
    }
  },
  "cells": [
    {
      "cell_type": "code",
      "metadata": {
        "id": "IRW_gNcKxV9T",
        "colab_type": "code",
        "colab": {
          "base_uri": "https://localhost:8080/",
          "height": 34
        },
        "outputId": "16ce41e9-831b-4aa8-eb57-8ede81aa4d17"
      },
      "source": [
        "import numpy as np\n",
        "import pandas as pd\n",
        " \n",
        "features_field_full = pd.read_pickle('/content/drive/My Drive/Copy of features_field.pkl', compression = 'gzip')\n",
        "features_field_full = features_field_full.dropna()\n",
        "features_field_full.reset_index(drop=True,inplace=True)\n",
        "features_field = features_field_full.drop(columns = ['user_id','activity_type_id','start','finish','length'])\n",
        "features_field.reset_index(drop=True, inplace=True)\n",
        "# features_field.columns = ['']\n",
        "features_field.shape"
      ],
      "execution_count": null,
      "outputs": [
        {
          "output_type": "execute_result",
          "data": {
            "text/plain": [
              "(24583, 223)"
            ]
          },
          "metadata": {
            "tags": []
          },
          "execution_count": 8
        }
      ]
    },
    {
      "cell_type": "code",
      "metadata": {
        "id": "Jj5wAh3KyAI-",
        "colab_type": "code",
        "colab": {
          "base_uri": "https://localhost:8080/",
          "height": 85
        },
        "outputId": "d591cb35-113c-476e-987b-185c6517edee"
      },
      "source": [
        "from sklearn.model_selection import train_test_split\n",
        "\n",
        "data = features_field.to_numpy()\n",
        "X_train, X_test, y_train, y_test = train_test_split(data, ((features_field_full['activity_type_id']-1).to_numpy()), test_size=0.33, random_state=42)\n",
        "print(X_train.shape)\n",
        "print(X_test.shape)\n",
        "print(y_train.shape)\n",
        "print(y_test.shape)"
      ],
      "execution_count": null,
      "outputs": [
        {
          "output_type": "stream",
          "text": [
            "(16470, 223)\n",
            "(8113, 223)\n",
            "(16470,)\n",
            "(8113,)\n"
          ],
          "name": "stdout"
        }
      ]
    },
    {
      "cell_type": "code",
      "metadata": {
        "id": "Mfr152TRxuMH",
        "colab_type": "code",
        "colab": {}
      },
      "source": [
        "from sklearn.svm import SVC\n",
        "from sklearn.metrics import classification_report , confusion_matrix , accuracy_score\n",
        "model = SVC(kernel = 'rbf' , C = 1000 , gamma = 0.0001)\n",
        "model.fit(X_train , y_train)\n",
        "y_pred = model.predict(X_test)"
      ],
      "execution_count": null,
      "outputs": []
    },
    {
      "cell_type": "code",
      "metadata": {
        "id": "eHkMLY_Fyjn_",
        "colab_type": "code",
        "colab": {
          "base_uri": "https://localhost:8080/",
          "height": 649
        },
        "outputId": "56a50d32-d5a1-4f83-dde1-f524073ac4ce"
      },
      "source": [
        "print(\"Confusion Matrix: \\n\\n\",confusion_matrix(y_test,y_pred))\n",
        "print(\"\\n\\nReport: \\n\\n\",classification_report(y_test,y_pred))\n",
        "print(\"Accuracy: \",accuracy_score(y_test,y_pred))"
      ],
      "execution_count": null,
      "outputs": [
        {
          "output_type": "stream",
          "text": [
            "Confusion Matrix: \n",
            "\n",
            " [[   0    0    0    0   58    0    0    0    0    0]\n",
            " [   0    0    0    0    4    0    0    0    0    0]\n",
            " [   0    0    4    0  372    0    0    0    0    0]\n",
            " [   0    0    0  792 1194    0    0    0    0    0]\n",
            " [   0    0    0    3 4943    0    0    0    0    0]\n",
            " [   0    0    0    0    2    0    0    0    0    0]\n",
            " [   0    0    0    1  359    0  168    0    0    0]\n",
            " [   0    0    0    0   14    0    0    0    0    0]\n",
            " [   0    0    0    0    6    0    0    0    0    0]\n",
            " [   0    0    0    1  118    0    0    0    0   74]]\n",
            "\n",
            "\n",
            "Report: \n",
            "\n",
            "               precision    recall  f1-score   support\n",
            "\n",
            "           0       0.00      0.00      0.00        58\n",
            "           1       0.00      0.00      0.00         4\n",
            "           2       1.00      0.01      0.02       376\n",
            "           3       0.99      0.40      0.57      1986\n",
            "           4       0.70      1.00      0.82      4946\n",
            "           5       0.00      0.00      0.00         2\n",
            "           6       1.00      0.32      0.48       528\n",
            "           8       0.00      0.00      0.00        14\n",
            "           9       0.00      0.00      0.00         6\n",
            "          11       1.00      0.38      0.55       193\n",
            "\n",
            "    accuracy                           0.74      8113\n",
            "   macro avg       0.47      0.21      0.25      8113\n",
            "weighted avg       0.80      0.74      0.69      8113\n",
            "\n",
            "Accuracy:  0.7372118821644275\n"
          ],
          "name": "stdout"
        },
        {
          "output_type": "stream",
          "text": [
            "/usr/local/lib/python3.6/dist-packages/sklearn/metrics/_classification.py:1272: UndefinedMetricWarning: Precision and F-score are ill-defined and being set to 0.0 in labels with no predicted samples. Use `zero_division` parameter to control this behavior.\n",
            "  _warn_prf(average, modifier, msg_start, len(result))\n"
          ],
          "name": "stderr"
        }
      ]
    },
    {
      "cell_type": "code",
      "metadata": {
        "id": "tzmBnCsF1gP5",
        "colab_type": "code",
        "colab": {}
      },
      "source": [
        ""
      ],
      "execution_count": null,
      "outputs": []
    }
  ]
}